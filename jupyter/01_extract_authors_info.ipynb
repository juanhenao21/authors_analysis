{
 "cells": [
  {
   "cell_type": "code",
   "execution_count": 1,
   "metadata": {
    "collapsed": true
   },
   "outputs": [],
   "source": [
    "import collections\n",
    "import glob\n",
    "import itertools\n",
    "import re"
   ]
  },
  {
   "cell_type": "code",
   "execution_count": 2,
   "metadata": {
    "collapsed": true
   },
   "outputs": [],
   "source": [
    "def popular(iterable, limit):\n",
    "    \"\"\"\n",
    "    A little utility to compute popular values on an iterable.\n",
    "    \"\"\"\n",
    "    return collections.Counter(iterable).most_common(limit)"
   ]
  },
  {
   "cell_type": "code",
   "execution_count": 3,
   "metadata": {
    "collapsed": true
   },
   "outputs": [],
   "source": [
    "def article_text_to_dict(article_text: str):\n",
    "    \"\"\"\n",
    "    Translates an article text into a dict.\n",
    "    \"\"\"\n",
    "    data = collections.defaultdict(list)\n",
    "    field = ''\n",
    "    for line in re.split(r'\\n+', article_text):\n",
    "        # Fix little bug with isi files\n",
    "        if line.startswith('null'):\n",
    "            line = line[4:]\n",
    "        name = line[:2]\n",
    "        value = line[3:]\n",
    "        if not name.isspace():\n",
    "            field = name\n",
    "        if not field.isspace() and field != 'ER':\n",
    "            data[field].append(value)\n",
    "    return dict(data)"
   ]
  },
  {
   "cell_type": "code",
   "execution_count": 4,
   "metadata": {
    "collapsed": true
   },
   "outputs": [],
   "source": [
    "class WosToolsError(Exception):\n",
    "    \"\"\"\n",
    "    All the errors go here.\n",
    "    \"\"\"\n",
    "    pass\n",
    "\n",
    "\n",
    "class Article(object):\n",
    "    \"\"\"\n",
    "    Abstract a WOS article.\n",
    "    \"\"\"\n",
    "\n",
    "    def __init__(self, article_text):\n",
    "        self._article_text = article_text\n",
    "        self._data = article_text_to_dict(article_text)\n",
    "\n",
    "    def __getattr__(self, name):\n",
    "        if name not in self._data and not hasattr(self._data, name):\n",
    "            raise AttributeError('{self.__class__.__name__} does not have an attribute %s' %name)\n",
    "        if name not in self._data:\n",
    "            return getattr(self._data, name)\n",
    "        return self._data[name]\n",
    "\n",
    "    def __hasattr__(self, name):\n",
    "        return name in self._data\n",
    "\n",
    "\n",
    "class CollectionLazy(object):\n",
    "    \"\"\"\n",
    "    A collection of WOS text files.\n",
    "    \"\"\"\n",
    "\n",
    "    def __init__(self, *filenames):\n",
    "        self.filenames = filenames\n",
    "\n",
    "    @classmethod\n",
    "    def from_glob(cls, pattern):\n",
    "        \"\"\"\n",
    "        Creates a new collection from a pattern using glob.\n",
    "        \"\"\"\n",
    "        return cls(*glob.glob(pattern))\n",
    "\n",
    "    @property\n",
    "    def files(self):\n",
    "        \"\"\"\n",
    "        Iterates over all files in the collection\n",
    "        \"\"\"\n",
    "        for filename in self.filenames:\n",
    "            try:\n",
    "                with open(filename) as filehandle:\n",
    "                    yield filehandle\n",
    "            except FileNotFoundError:\n",
    "                raise WosToolsError('The file %s was not found' %filename)\n",
    "\n",
    "    @property\n",
    "    def article_texts(self):\n",
    "        \"\"\"\n",
    "        Iterates over all the single article texts in the colection.\n",
    "        \"\"\"\n",
    "        for filehandle in self.files:\n",
    "            data = filehandle.read()\n",
    "            for article_text in data.split('\\n\\n')[1:]:\n",
    "                if article_text == 'EF':\n",
    "                    continue\n",
    "                yield article_text\n",
    "\n",
    "    @property\n",
    "    def articles(self):\n",
    "        \"\"\"\n",
    "        Iterates over all articles.\n",
    "        \"\"\"\n",
    "        for article_text in self.article_texts:\n",
    "            yield Article(article_text)\n",
    "\n",
    "    @property\n",
    "    def authors(self):\n",
    "        \"\"\"\n",
    "        Iterates over all article authors, including duplicates\n",
    "        \"\"\"\n",
    "        authors = (\n",
    "            article.AF\n",
    "            for article in self.articles\n",
    "            if hasattr(article, 'AF')\n",
    "        )\n",
    "        return itertools.chain(*authors)\n",
    "\n",
    "    @property\n",
    "    def coauthors(self):\n",
    "        \"\"\"\n",
    "        Iterates over coauthor pairs.\n",
    "        \"\"\"\n",
    "        authors_by_article = (\n",
    "            article.AF\n",
    "            for article in self.articles\n",
    "            if hasattr(article, 'AF')\n",
    "        )\n",
    "        return itertools.chain(*(\n",
    "            itertools.combinations(sorted(authors), 2)\n",
    "            for authors in authors_by_article\n",
    "        ))\n",
    "\n",
    "    def completeness(self, key=None):\n",
    "        \"\"\"\n",
    "        Computes the completeness of the collection by key.\n",
    "        \"\"\"\n",
    "        counters = collections.defaultdict(int)\n",
    "        total = 0\n",
    "        for article in self.articles:\n",
    "            total += 1\n",
    "            for key in article.keys():\n",
    "                counters[key] += 1\n",
    "        return {key: val/total for key, val in counters.items()}"
   ]
  },
  {
   "cell_type": "markdown",
   "metadata": {},
   "source": [
    "# Extract information"
   ]
  },
  {
   "cell_type": "code",
   "execution_count": 5,
   "metadata": {
    "collapsed": true
   },
   "outputs": [],
   "source": [
    "wos_file = CollectionLazy.from_glob('*.txt')"
   ]
  },
  {
   "cell_type": "code",
   "execution_count": 10,
   "metadata": {
    "collapsed": true
   },
   "outputs": [],
   "source": [
    "articles_list = list(wos_file.articles)\n",
    "authors_list = list(wos_file.authors)\n",
    "coauthors_list = list(wos_file.coauthors)"
   ]
  }
 ],
 "metadata": {
  "kernelspec": {
   "display_name": "Python 3",
   "language": "python",
   "name": "python3"
  },
  "language_info": {
   "codemirror_mode": {
    "name": "ipython",
    "version": 3
   },
   "file_extension": ".py",
   "mimetype": "text/x-python",
   "name": "python",
   "nbconvert_exporter": "python",
   "pygments_lexer": "ipython3",
   "version": "3.5.2"
  }
 },
 "nbformat": 4,
 "nbformat_minor": 2
}
